{
  "nbformat": 4,
  "nbformat_minor": 0,
  "metadata": {
    "colab": {
      "provenance": [],
      "authorship_tag": "ABX9TyPuQbkBUqfuiM9wUG9Bl8bf",
      "include_colab_link": true
    },
    "kernelspec": {
      "name": "python3",
      "display_name": "Python 3"
    },
    "language_info": {
      "name": "python"
    }
  },
  "cells": [
    {
      "cell_type": "markdown",
      "metadata": {
        "id": "view-in-github",
        "colab_type": "text"
      },
      "source": [
        "<a href=\"https://colab.research.google.com/github/WKhisa/Visualising-Streaming-Data-with-Streamlit-/blob/main/reddit.ipynb\" target=\"_parent\"><img src=\"https://colab.research.google.com/assets/colab-badge.svg\" alt=\"Open In Colab\"/></a>"
      ]
    },
    {
      "cell_type": "code",
      "execution_count": null,
      "metadata": {
        "id": "zLTLJ5A_dnfI"
      },
      "outputs": [],
      "source": [
        "import praw\n",
        "import pandas as pd\n",
        "\n",
        "# Initialize the Reddit API client\n",
        "reddit = praw.Reddit(\n",
        "    client_id='sYrfxJ7qRlar2fUA-00Jaw',\n",
        "    client_secret='AfAf83-6sJocskGMaMoc8QYBqVd-aQ,\n",
        "    user_agent='dataEng',\n",
        ")\n",
        "\n",
        "# Set the subreddit you want to search in (e.g., r/scams for scam-related content)\n",
        "subreddit_name = 'telcom_scams'\n",
        "\n",
        "# Define the keywords or phrases related to telecom fraud\n",
        "keywords = ['telecom fraud', 'telecom scam', 'phone fraud', 'phone scam']\n",
        "\n",
        "# Initialize an empty list to store matching posts\n",
        "matching_posts = []\n",
        "\n",
        "# Search for posts containing the keywords in the specified subreddit\n",
        "for keyword in keywords:\n",
        "    subreddit = reddit.subreddit(subreddit_name)\n",
        "    search_results = subreddit.search(keyword, limit=10)  # Adjust the limit as needed\n",
        "\n",
        "    for post in search_results:\n",
        "        matching_posts.append({\n",
        "            'Title': post.title,\n",
        "            'Author': post.author.name if post.author else 'Unknown',\n",
        "            'Score': post.score,\n",
        "            'URL': post.url,\n",
        "            'Comments': post.num_comments,\n",
        "        })\n",
        "\n",
        "df = pd.DataFrame(matching_posts)\n",
        "\n",
        "\n"
      ]
    }
  ]
}